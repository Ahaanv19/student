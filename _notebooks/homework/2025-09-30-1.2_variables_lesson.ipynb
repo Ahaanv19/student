{
 "cells": [
  {
   "cell_type": "raw",
   "metadata": {
    "vscode": {
     "languageId": "raw"
    }
   },
   "source": [
    "---\n",
    "title: 1.2 Lesson Homework\n",
    "comments: true\n",
    "layout: post\n",
    "permalink: /variables/1.2-lesson-homework/\n",
    "description: Lesson 1.2 Homework\n",
    "author: Ahaan\n",
    "---"
   ]
  },
  {
   "cell_type": "markdown",
   "metadata": {},
   "source": [
    "# Variables and Data Types – Hack Solutions\n",
    "\n",
    "---\n",
    "\n",
    "## Popcorn Hack #1: Your Favorite Things\n",
    "\n",
    "**Requirements:**  \n",
    "- Favorite food (text → String)  \n",
    "- Your age (whole number → int)  \n",
    "- Your height in feet (decimal → double)  \n",
    "- Do you like pizza? (true/false → boolean)  \n",
    "- First letter of your favorite color (single character → char)  \n",
    "- Birth year (never changes → final int)  \n",
    "\n",
    "**Solution:**\n",
    "\n",
    "\n"
   ]
  },
  {
   "cell_type": "code",
   "execution_count": 4,
   "metadata": {
    "vscode": {
     "languageId": "java"
    }
   },
   "outputs": [
    {
     "name": "stdout",
     "output_type": "stream",
     "text": [
      "Favorite food: Sushi\n",
      "Age: 16\n",
      "Height: 5.8 feet\n",
      "Likes pizza: true\n",
      "Favorite color starts with: G\n",
      "Born in: 2009\n"
     ]
    }
   ],
   "source": [
    "public class MyFavoriteThings {\n",
    "    public static void main(String[] args) {\n",
    "        String favoriteFood = \"Sushi\";\n",
    "        int myAge = 16;\n",
    "        double heightInFeet = 5.8;\n",
    "        boolean likesPizza = true;\n",
    "        char colorFirstLetter = 'G';   // Green\n",
    "        final int BIRTH_YEAR = 2009;   // Never changes\n",
    "\n",
    "        System.out.println(\"Favorite food: \" + favoriteFood);\n",
    "        System.out.println(\"Age: \" + myAge);\n",
    "        System.out.println(\"Height: \" + heightInFeet + \" feet\");\n",
    "        System.out.println(\"Likes pizza: \" + likesPizza);\n",
    "        System.out.println(\"Favorite color starts with: \" + colorFirstLetter);\n",
    "        System.out.println(\"Born in: \" + BIRTH_YEAR);\n",
    "    }\n",
    "}\n",
    "\n",
    "MyFavoriteThings.main(new String[]{});"
   ]
  },
  {
   "cell_type": "markdown",
   "metadata": {},
   "source": [
    "## Popcorn Hack #2: Pick the Best Type\n",
    "\n",
    "Prompt: Pick the best Java type for each piece of information.\n"
   ]
  },
  {
   "cell_type": "code",
   "execution_count": 3,
   "metadata": {
    "vscode": {
     "languageId": "java"
    }
   },
   "outputs": [
    {
     "name": "stdout",
     "output_type": "stream",
     "text": [
      "Siblings: 3\n",
      "First name: Ahaan\n",
      "Hungry: false\n",
      "Favorite letter: V\n",
      "Height: 69.5 inches\n",
      "Days in a year: 365\n"
     ]
    }
   ],
   "source": [
    "public class PickTheType {\n",
    "    public static void main(String[] args) {\n",
    "        int siblings = 3;                 // Whole number → int\n",
    "        String firstName = \"Ahaan\";       // Text → String\n",
    "        boolean isHungry = false;         // Yes/No → boolean\n",
    "        char favoriteLetter = 'V';        // One letter → char\n",
    "        double heightInches = 69.5;       // Decimal → double\n",
    "        final int DAYS_IN_YEAR = 365;     // Never changes → final int\n",
    "\n",
    "        System.out.println(\"Siblings: \" + siblings);\n",
    "        System.out.println(\"First name: \" + firstName);\n",
    "        System.out.println(\"Hungry: \" + isHungry);\n",
    "        System.out.println(\"Favorite letter: \" + favoriteLetter);\n",
    "        System.out.println(\"Height: \" + heightInches + \" inches\");\n",
    "        System.out.println(\"Days in a year: \" + DAYS_IN_YEAR);\n",
    "    }\n",
    "}\n",
    "\n",
    "PickTheType.main(new String[]{});"
   ]
  },
  {
   "cell_type": "markdown",
   "metadata": {},
   "source": [
    "## Homework Hack: Simple Grade Calculator\n",
    "\n",
    "Requirements:\n",
    "\n",
    "Store:\n",
    "\n",
    "- Student’s name (final String)\n",
    "\n",
    "- Class name (final String)\n",
    "\n",
    "- 3 test scores (int)\n",
    "\n",
    "Calculate:\n",
    "\n",
    "- Average of the three scores (double)\n",
    "\n",
    "- Letter grade (A, B, C, D, F)\n",
    "\n",
    "- Print a summary\n",
    "\n",
    "Solution:"
   ]
  },
  {
   "cell_type": "code",
   "execution_count": 2,
   "metadata": {
    "vscode": {
     "languageId": "java"
    }
   },
   "outputs": [
    {
     "name": "stdout",
     "output_type": "stream",
     "text": [
      "Student: Ahaan Vaidyanathan\n",
      "Class: AP Computer Science A\n",
      "Scores: 92, 8588\n",
      "Average: 88.33333333333333\n",
      "Final Grade: B\n"
     ]
    }
   ],
   "source": [
    "public class GradeCalculator {\n",
    "    public static void main(String[] args) {\n",
    "        // Final variables (never change)\n",
    "        final String STUDENT_NAME = \"Ahaan Vaidyanathan\";\n",
    "        final String CLASS_NAME = \"AP Computer Science A\";\n",
    "\n",
    "        // Test scores (whole numbers)\n",
    "        int score1 = 92;\n",
    "        int score2 = 85;\n",
    "        int score3 = 88;\n",
    "\n",
    "        // Calculate average\n",
    "        double average = (score1 + score2 + score3) / 3.0;\n",
    "\n",
    "        // Determine letter grade\n",
    "        char grade;\n",
    "        if (average >= 90) {\n",
    "            grade = 'A';\n",
    "        } else if (average >= 80) {\n",
    "            grade = 'B';\n",
    "        } else if (average >= 70) {\n",
    "            grade = 'C';\n",
    "        } else if (average >= 60) {\n",
    "            grade = 'D';\n",
    "        } else {\n",
    "            grade = 'F';\n",
    "        }\n",
    "\n",
    "        // Print summary\n",
    "        System.out.println(\"Student: \" + STUDENT_NAME);\n",
    "        System.out.println(\"Class: \" + CLASS_NAME);\n",
    "        System.out.println(\"Scores: \" + score1 + \", \" + score2 + \n",
    " + score3);\n",
    "        System.out.println(\"Average: \" + average);\n",
    "        System.out.println(\"Final Grade: \" + grade);\n",
    "    }\n",
    "}\n",
    "\n",
    "GradeCalculator.main(new String[]{});"
   ]
  }
 ],
 "metadata": {
  "kernelspec": {
   "display_name": "jbang-ijava",
   "language": "java",
   "name": "jbang-ijava"
  },
  "language_info": {
   "codemirror_mode": "java",
   "file_extension": ".jshell",
   "mimetype": "text/x-java-source",
   "name": "Java",
   "pygments_lexer": "java",
   "version": "25+36-LTS"
  }
 },
 "nbformat": 4,
 "nbformat_minor": 2
}
