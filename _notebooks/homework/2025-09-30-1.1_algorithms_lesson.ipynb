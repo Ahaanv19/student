{
 "cells": [
  {
   "cell_type": "raw",
   "metadata": {
    "vscode": {
     "languageId": "raw"
    }
   },
   "source": [
    "---\n",
    "title: 1.1 Lesson Homework\n",
    "comments: true\n",
    "layout: post\n",
    "permalink: /algorithm/1.1-lesson-homework/\n",
    "description: Lesson 1.1 Homework\n",
    "author: Ahaan\n",
    "---"
   ]
  },
  {
   "cell_type": "markdown",
   "metadata": {},
   "source": [
    "## Hack 1: Create Your Own Algorithm\n",
    "\n",
    "**Activity chosen:** Making a pizza from scratch  \n",
    "\n",
    "**Algorithm:**  \n",
    "1. Gather ingredients: flour, yeast, water, salt, olive oil, tomato sauce, cheese, and toppings.  \n",
    "2. Mix flour, yeast, water, salt, and olive oil in a bowl to form dough.  \n",
    "3. Knead the dough for about 10 minutes until smooth and elastic.  \n",
    "4. Cover the dough with a cloth and let it rise for 1–2 hours.  \n",
    "5. Preheat the oven to 475°F (245°C).  \n",
    "6. Roll out the dough into a circular shape on a floured surface.  \n",
    "7. Spread tomato sauce evenly on the rolled-out dough.  \n",
    "8. Add shredded cheese on top of the sauce.  \n",
    "9. Place chosen toppings (pepperoni, veggies, etc.) on top of the cheese.  \n",
    "10. Put the pizza in the oven and bake for 12–15 minutes.  \n",
    "11. Remove pizza from oven, let it cool slightly, then slice and serve. "
   ]
  },
  {
   "cell_type": "markdown",
   "metadata": {},
   "source": [
    "## Hack 2: Identify the Bug\n",
    "\n",
    "**Algorithm (Corrected): Send an Email**\n",
    "\n",
    "1. Open email application  \n",
    "2. Log into your account  \n",
    "3. Enter recipient's email address  \n",
    "4. Write subject line  \n",
    "5. Type the message  \n",
    "6. Click \"Send\"  \n",
    "\n"
   ]
  },
  {
   "cell_type": "markdown",
   "metadata": {},
   "source": [
    "\n",
    "## Hack 3: Code the Algorithm\n",
    "\n",
    "**Python Implementation:**"
   ]
  },
  {
   "cell_type": "code",
   "execution_count": 1,
   "metadata": {},
   "outputs": [
    {
     "name": "stdout",
     "output_type": "stream",
     "text": [
      "Test 1: A\n",
      "Test 2: B\n",
      "Test 3: C\n",
      "Test 4: D\n",
      "Test 5: F\n"
     ]
    }
   ],
   "source": [
    "\n",
    "def calculate_grade(score1, score2, score3):\n",
    "    \"\"\"\n",
    "    Calculate letter grade from three test scores\n",
    "    \n",
    "    Args:\n",
    "        score1, score2, score3: Test scores (integers)\n",
    "    \n",
    "    Returns:\n",
    "        grade: Letter grade (string)\n",
    "    \"\"\"\n",
    "    # Step 1: Add the three scores together\n",
    "    total = score1 + score2 + score3\n",
    "    \n",
    "    # Step 2: Calculate the average\n",
    "    average = total / 3\n",
    "    \n",
    "    # Step 3: Determine the letter grade using if-elif-else\n",
    "    if average >= 90:\n",
    "        grade = \"A\"\n",
    "    elif average >= 80:\n",
    "        grade = \"B\"\n",
    "    elif average >= 70:\n",
    "        grade = \"C\"\n",
    "    elif average >= 60:\n",
    "        grade = \"D\"\n",
    "    else:\n",
    "        grade = \"F\"\n",
    "    \n",
    "    # Step 4: Return the grade\n",
    "    return grade\n",
    "\n",
    "# ✅ Tests\n",
    "print(\"Test 1:\", calculate_grade(95, 92, 88))  # Should be 'A'\n",
    "print(\"Test 2:\", calculate_grade(85, 80, 82))  # Should be 'B'\n",
    "print(\"Test 3:\", calculate_grade(75, 70, 72))  # Should be 'C'\n",
    "print(\"Test 4:\", calculate_grade(65, 60, 62))  # Should be 'D'\n",
    "print(\"Test 5:\", calculate_grade(55, 50, 52))  # Should be 'F'"
   ]
  }
 ],
 "metadata": {
  "kernelspec": {
   "display_name": ".venv",
   "language": "python",
   "name": "python3"
  },
  "language_info": {
   "codemirror_mode": {
    "name": "ipython",
    "version": 3
   },
   "file_extension": ".py",
   "mimetype": "text/x-python",
   "name": "python",
   "nbconvert_exporter": "python",
   "pygments_lexer": "ipython3",
   "version": "3.13.7"
  }
 },
 "nbformat": 4,
 "nbformat_minor": 2
}
