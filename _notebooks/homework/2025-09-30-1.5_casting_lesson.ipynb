{
 "cells": [
  {
   "cell_type": "raw",
   "id": "52237f60",
   "metadata": {},
   "source": [
    "---\n",
    "title: 1.5 Lesson Homework\n",
    "comments: true\n",
    "layout: post\n",
    "permalink: /variables/1.5-lesson-homework/\n",
    "description: Lesson 1.5 Homework\n",
    "author: Ahaan\n",
    "---"
   ]
  },
  {
   "cell_type": "markdown",
   "id": "1c85c542",
   "metadata": {},
   "source": [
    "# Casting and Range of Variables Homework\n",
    "\n",
    "\n"
   ]
  },
  {
   "cell_type": "markdown",
   "id": "f46877cc",
   "metadata": {},
   "source": [
    "## Practice: predict the output (Java)"
   ]
  },
  {
   "cell_type": "markdown",
   "id": "11e00f53",
   "metadata": {},
   "source": [
    "##### Q1"
   ]
  },
  {
   "cell_type": "markdown",
   "id": "5d401471",
   "metadata": {},
   "source": [
    "##### Prediction Output\n",
    "\n",
    "- 2\n",
    "- 2\n",
    "- 2.0\n",
    "- 2.5\n",
    "\n"
   ]
  },
  {
   "cell_type": "markdown",
   "id": "7bb847aa",
   "metadata": {},
   "source": [
    "##### Answer"
   ]
  },
  {
   "cell_type": "code",
   "execution_count": 16,
   "id": "056c644e",
   "metadata": {
    "vscode": {
     "languageId": "java"
    }
   },
   "outputs": [
    {
     "name": "stdout",
     "output_type": "stream",
     "text": [
      "2\n",
      "2\n",
      "2.0\n",
      "2.5\n"
     ]
    }
   ],
   "source": [
    "int a = 10, b = 4;\n",
    "System.out.println(a / b);\n",
    "System.out.println(a % b);\n",
    "System.out.println((double)(a / b));\n",
    "System.out.println((double)a / b);\n"
   ]
  },
  {
   "cell_type": "markdown",
   "id": "c1695785",
   "metadata": {},
   "source": [
    "##### Q2\n"
   ]
  },
  {
   "cell_type": "markdown",
   "id": "ebcaa125",
   "metadata": {},
   "source": [
    "##### Prediction Output\n",
    "\n",
    "- -2\n",
    "- -3\n",
    "- 3"
   ]
  },
  {
   "cell_type": "markdown",
   "id": "478bf8c1",
   "metadata": {},
   "source": [
    "##### Answer"
   ]
  },
  {
   "cell_type": "code",
   "execution_count": 2,
   "id": "f5b1b498",
   "metadata": {
    "vscode": {
     "languageId": "java"
    }
   },
   "outputs": [
    {
     "name": "stdout",
     "output_type": "stream",
     "text": [
      "-2\n",
      "-3\n",
      "3\n"
     ]
    }
   ],
   "source": [
    "double d = -2.6;\n",
    "System.out.println((int)d);\n",
    "System.out.println((int)(d - 0.5));\n",
    "System.out.println((int)(-d + 0.5));\n"
   ]
  },
  {
   "cell_type": "markdown",
   "id": "41616fa4",
   "metadata": {},
   "source": [
    "##### Q3"
   ]
  },
  {
   "cell_type": "markdown",
   "id": "b659a1f0",
   "metadata": {},
   "source": [
    "##### Prediction Output\n",
    "\n",
    "- 2147483647\n",
    "- -2147483647\n"
   ]
  },
  {
   "cell_type": "markdown",
   "id": "a22a5b75",
   "metadata": {},
   "source": [
    "##### Answer"
   ]
  },
  {
   "cell_type": "code",
   "execution_count": 3,
   "id": "c57b2f7b",
   "metadata": {
    "vscode": {
     "languageId": "java"
    }
   },
   "outputs": [
    {
     "name": "stdout",
     "output_type": "stream",
     "text": [
      "2147483647\n",
      "-2147483647\n"
     ]
    }
   ],
   "source": [
    "int x = Integer.MAX_VALUE;\n",
    "int y = x + 2;\n",
    "System.out.println(x);\n",
    "System.out.println(y);\n"
   ]
  },
  {
   "cell_type": "markdown",
   "id": "d94fb930",
   "metadata": {},
   "source": [
    "# FRQ Homework"
   ]
  },
  {
   "cell_type": "markdown",
   "id": "ac245e04",
   "metadata": {},
   "source": [
    "## FRQ 1. Average with correct casting"
   ]
  },
  {
   "cell_type": "code",
   "execution_count": 17,
   "id": "b63b0894",
   "metadata": {
    "vscode": {
     "languageId": "java"
    }
   },
   "outputs": [
    {
     "name": "stdout",
     "output_type": "stream",
     "text": [
      "Average of 3 and 4: 3.5\n",
      "Average of 10 and 2: 6.0\n",
      "Average of 5 and 6: 5.5\n"
     ]
    }
   ],
   "source": [
    "public class FRQ1 {\n",
    "    \n",
    "    // Method to compute the average of two integers as a double\n",
    "    public static double avgInt(int a, int b) {\n",
    "        return ((double)a + b) / 2.0; // cast to double to preserve .5\n",
    "    }\n",
    "\n",
    "    public static void main(String[] args) {\n",
    "        // Test examples\n",
    "        System.out.println(\"Average of 3 and 4: \" + avgInt(3, 4));   // 3.5\n",
    "        System.out.println(\"Average of 10 and 2: \" + avgInt(10, 2)); // 6.0\n",
    "        System.out.println(\"Average of 5 and 6: \" + avgInt(5, 6));   // 5.5\n",
    "    }\n",
    "}\n",
    "\n",
    "// Run the main method\n",
    "FRQ1.main(null);\n",
    "\n",
    "\n"
   ]
  },
  {
   "cell_type": "markdown",
   "id": "40e5a9fd",
   "metadata": {},
   "source": [
    "## FRQ 2: Percentage Calculation"
   ]
  },
  {
   "cell_type": "code",
   "execution_count": 18,
   "id": "2f704668",
   "metadata": {
    "vscode": {
     "languageId": "java"
    }
   },
   "outputs": [
    {
     "name": "stdout",
     "output_type": "stream",
     "text": [
      "Percentage 45/50: 90.0\n",
      "Percentage 7/12: 58.333333333333336\n",
      "Percentage 0/0: 0.0\n"
     ]
    }
   ],
   "source": [
    "public class FRQ2 {\n",
    "\n",
    "    // Method to compute percentage as a double\n",
    "    public static double percent(int correct, int total) {\n",
    "        if (total == 0) return 0.0;              // avoid division by zero\n",
    "        return 100.0 * ((double) correct) / total; // cast to double for precision\n",
    "    }\n",
    "\n",
    "    public static void main(String[] args) {\n",
    "        // Test examples\n",
    "        System.out.println(\"Percentage 45/50: \" + percent(45, 50));  // 90.0\n",
    "        System.out.println(\"Percentage 7/12: \" + percent(7, 12));    // 58.3333...\n",
    "        System.out.println(\"Percentage 0/0: \" + percent(0, 0));      // 0.0\n",
    "    }\n",
    "}\n",
    "\n",
    "// Run the main method\n",
    "FRQ2.main(null);\n",
    "\n",
    "\n"
   ]
  },
  {
   "cell_type": "markdown",
   "id": "8bd15044",
   "metadata": {},
   "source": [
    "## FRQ 3: Safe Remainder"
   ]
  },
  {
   "cell_type": "code",
   "execution_count": 19,
   "id": "b72dff4b",
   "metadata": {
    "vscode": {
     "languageId": "java"
    }
   },
   "outputs": [
    {
     "name": "stdout",
     "output_type": "stream",
     "text": [
      "safeMod(10, 3): 1\n",
      "safeMod(7, -2): 1\n",
      "safeMod(-7, 2): -1\n",
      "safeMod(5, 0): 0\n"
     ]
    }
   ],
   "source": [
    "public class FRQ3 {\n",
    "\n",
    "    // Method to compute safe remainder\n",
    "    public static int safeMod(int a, int b) {\n",
    "        if (b == 0) return 0;   // avoid division by zero\n",
    "        return a % b;\n",
    "    }\n",
    "\n",
    "    public static void main(String[] args) {\n",
    "        // Test examples\n",
    "        System.out.println(\"safeMod(10, 3): \" + safeMod(10, 3));   // 1\n",
    "        System.out.println(\"safeMod(7, -2): \" + safeMod(7, -2));   // 1\n",
    "        System.out.println(\"safeMod(-7, 2): \" + safeMod(-7, 2));   // -1\n",
    "        System.out.println(\"safeMod(5, 0): \" + safeMod(5, 0));     // 0\n",
    "    }\n",
    "}\n",
    "\n",
    "// Run the main method\n",
    "FRQ3.main(null);\n",
    "\n",
    "\n"
   ]
  },
  {
   "cell_type": "markdown",
   "id": "14c2c92d",
   "metadata": {},
   "source": [
    "## MCQ Summary Answers\n",
    "**Q1:** C  \n",
    "**Q2:** D  \n",
    "**Q3:** B  \n",
    "**Q4:** B  \n",
    "**Q5:** B"
   ]
  }
 ],
 "metadata": {
  "kernelspec": {
   "display_name": "jbang-ijava",
   "language": "java",
   "name": "jbang-ijava"
  },
  "language_info": {
   "codemirror_mode": "java",
   "file_extension": ".jshell",
   "mimetype": "text/x-java-source",
   "name": "Java",
   "pygments_lexer": "java",
   "version": "25+36-LTS"
  }
 },
 "nbformat": 4,
 "nbformat_minor": 5
}
