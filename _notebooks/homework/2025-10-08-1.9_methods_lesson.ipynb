{
 "cells": [
  {
   "cell_type": "raw",
   "id": "07f6d2a2",
   "metadata": {
    "vscode": {
     "languageId": "raw"
    }
   },
   "source": [
    "---\n",
    "title: 1.9 Lesson Homework\n",
    "comments: true\n",
    "layout: post\n",
    "permalink: /methods/1.9-lesson-homework/\n",
    "description: Lesson 1.9 Homework\n",
    "author: Ahaan\n",
    "---"
   ]
  },
  {
   "cell_type": "markdown",
   "id": "f3083f3d",
   "metadata": {},
   "source": [
    "# Popcorn Hack 1"
   ]
  },
  {
   "cell_type": "code",
   "execution_count": 2,
   "id": "c406ca67",
   "metadata": {
    "vscode": {
     "languageId": "java"
    }
   },
   "outputs": [
    {
     "name": "stdout",
     "output_type": "stream",
     "text": [
      "9\n",
      "-2\n",
      "3.5\n",
      "2.0\n"
     ]
    }
   ],
   "source": [
    "public class PopcornMax {\n",
    "    // int version of max\n",
    "    public static int max(int a, int b) {\n",
    "        return (a > b) ? a : b;\n",
    "    }\n",
    "\n",
    "    // double version of max\n",
    "    public static double max(double a, double b) {\n",
    "        return (a > b) ? a : b;\n",
    "    }\n",
    "\n",
    "    public static void main(String[] args) {\n",
    "        System.out.println(max(3, 9));      \n",
    "        System.out.println(max(-2, -7));    \n",
    "        System.out.println(max(3.5, 2.9));  \n",
    "        System.out.println(max(2, 2.0));    \n",
    "    }\n",
    "}\n",
    "\n",
    "\n",
    "PopcornMax.main(null);\n",
    "\n",
    "\n"
   ]
  },
  {
   "cell_type": "markdown",
   "id": "b9301909",
   "metadata": {},
   "source": [
    "# Popcorn Hack 2"
   ]
  },
  {
   "cell_type": "code",
   "execution_count": 4,
   "id": "d781f501",
   "metadata": {
    "vscode": {
     "languageId": "java"
    }
   },
   "outputs": [
    {
     "name": "stdout",
     "output_type": "stream",
     "text": [
      "int:42\n",
      "str:hello\n",
      "str:A!\n"
     ]
    }
   ],
   "source": [
    "public class PopcornPrint {\n",
    "    // int version of print\n",
    "    public static void print(int n) {\n",
    "        System.out.println(\"int:\" + n);\n",
    "    }\n",
    "\n",
    "    // String version of print\n",
    "    public static void print(String s) {\n",
    "        System.out.println(\"str:\" + s);\n",
    "    }\n",
    "\n",
    "    public static void main(String[] args) {\n",
    "        print(42);          // expected: int:42\n",
    "        print(\"hello\");     // expected: str:hello\n",
    "        print('A' + \"!\");   // char + String → String → expected: str:A!\n",
    "    }\n",
    "}\n",
    "\n",
    "\n",
    "PopcornPrint.main(null);\n",
    "\n"
   ]
  },
  {
   "cell_type": "markdown",
   "id": "d52e57f0",
   "metadata": {},
   "source": [
    "# Homework"
   ]
  },
  {
   "cell_type": "markdown",
   "id": "2ad4eaa6",
   "metadata": {},
   "source": [
    "### Short answer\n",
    "- Explain why int sum(int a, int b) and double sum(int a, int b) cannot both exist.\n",
    "- In one sentence, distinguish parameters vs arguments."
   ]
  },
  {
   "cell_type": "markdown",
   "id": "705e9238",
   "metadata": {},
   "source": [
    "### Answer"
   ]
  },
  {
   "cell_type": "markdown",
   "id": "019b5dbe",
   "metadata": {},
   "source": [
    "- They can’t both exist because they have identical parameters, and Java doesn’t allow overloading by return type alone.\n",
    "- Parameters are method input variables, while arguments are the actual values passed to them."
   ]
  },
  {
   "cell_type": "markdown",
   "id": "7feaad28",
   "metadata": {},
   "source": [
    "### Coding Tasks (write Java in code blocks; pseudo-Java acceptable)"
   ]
  },
  {
   "cell_type": "code",
   "execution_count": 9,
   "id": "3dce9c4b",
   "metadata": {
    "vscode": {
     "languageId": "java"
    }
   },
   "outputs": [
    {
     "name": "stdout",
     "output_type": "stream",
     "text": [
      "5\n",
      "3.5\n",
      "100\n",
      "HiThere\n",
      "HiHiHi\n",
      "int\n",
      "long\n",
      "double\n"
     ]
    }
   ],
   "source": [
    "// 1) Overloaded abs methods\n",
    "public static int abs(int x) {\n",
    "    return (x < 0) ? -x : x;\n",
    "}\n",
    "\n",
    "public static double abs(double x) {\n",
    "    return (x < 0) ? -x : x;\n",
    "}\n",
    "\n",
    "public static long abs(long x) {\n",
    "    return (x < 0) ? -x : x;\n",
    "}\n",
    "\n",
    "// 2) Overloaded concat methods\n",
    "public static String concat(String a, String b) {\n",
    "    return a + b;\n",
    "}\n",
    "\n",
    "public static String concat(String a, int n) {\n",
    "    String result = \"\";\n",
    "    for (int i = 0; i < n; i++) {\n",
    "        result += a;\n",
    "    }\n",
    "    return result;\n",
    "}\n",
    "\n",
    "// 3) Overloaded show methods\n",
    "public static void show(int x) {\n",
    "    System.out.println(\"int\");\n",
    "}\n",
    "\n",
    "public static void show(double x) {\n",
    "    System.out.println(\"double\");\n",
    "}\n",
    "\n",
    "public static void show(long x) {\n",
    "    System.out.println(\"long\");\n",
    "}\n",
    "\n",
    "// --- Test calls ---\n",
    "System.out.println(abs(-5));     // 5\n",
    "System.out.println(abs(-3.5));   // 3.5\n",
    "System.out.println(abs(-100L));  // 100\n",
    "\n",
    "System.out.println(concat(\"Hi\", \"There\")); // HiThere\n",
    "System.out.println(concat(\"Hi\", 3));       // HiHiHi\n",
    "\n",
    "show(7);     // int\n",
    "show(7L);    // long\n",
    "show(7.0);   // double\n",
    "\n",
    "\n"
   ]
  },
  {
   "cell_type": "markdown",
   "id": "29d25cc9",
   "metadata": {},
   "source": [
    "### FRQ 1"
   ]
  },
  {
   "cell_type": "code",
   "execution_count": 10,
   "id": "04d60721",
   "metadata": {
    "vscode": {
     "languageId": "java"
    }
   },
   "outputs": [
    {
     "name": "stdout",
     "output_type": "stream",
     "text": [
      "1\n",
      "-1\n",
      "1\n",
      "-1\n"
     ]
    }
   ],
   "source": [
    "public class Frq1_IndexOf {\n",
    "\n",
    "    // Assumptions & constraints:\n",
    "    // - s and target are non-null\n",
    "    // - For char version, return first occurrence or -1 if not found\n",
    "    // - For String version, return index of first occurrence of substring or -1\n",
    "    // - Do not use built-in String.indexOf for substring\n",
    "\n",
    "    // Find first occurrence of a character\n",
    "    public static int indexOf(char target, String s) {\n",
    "        for (int i = 0; i < s.length(); i++) {\n",
    "            if (s.charAt(i) == target) {\n",
    "                return i;\n",
    "            }\n",
    "        }\n",
    "        return -1;\n",
    "    }\n",
    "\n",
    "    // Find first occurrence of a substring\n",
    "    public static int indexOf(String target, String s) {\n",
    "        if (target.length() == 0) return 0; // empty string at start\n",
    "        for (int i = 0; i <= s.length() - target.length(); i++) {\n",
    "            boolean found = true;\n",
    "            for (int j = 0; j < target.length(); j++) {\n",
    "                if (s.charAt(i + j) != target.charAt(j)) {\n",
    "                    found = false;\n",
    "                    break;\n",
    "                }\n",
    "            }\n",
    "            if (found) return i;\n",
    "        }\n",
    "        return -1;\n",
    "    }\n",
    "\n",
    "    public static void main(String[] args) {\n",
    "        System.out.println(indexOf('a', \"banana\"));      // expected: 1\n",
    "        System.out.println(indexOf('z', \"banana\"));      // expected: -1\n",
    "        System.out.println(indexOf(\"ana\", \"banana\"));    // expected: 1\n",
    "        System.out.println(indexOf(\"xyz\", \"banana\"));    // expected: -1\n",
    "    }\n",
    "}\n",
    "\n",
    "Frq1_IndexOf.main(null);\n"
   ]
  },
  {
   "cell_type": "markdown",
   "id": "838692dc",
   "metadata": {},
   "source": [
    "### FRQ 2"
   ]
  },
  {
   "cell_type": "code",
   "execution_count": 11,
   "id": "ee47d713",
   "metadata": {
    "vscode": {
     "languageId": "java"
    }
   },
   "outputs": [
    {
     "name": "stdout",
     "output_type": "stream",
     "text": [
      "5\n",
      "0\n",
      "10\n",
      "5.0\n",
      "3.2\n"
     ]
    }
   ],
   "source": [
    "public class Frq2_Clamp {\n",
    "\n",
    "    // Clamp int value to [low, high], swap if low > high\n",
    "    public static int clamp(int value, int low, int high) {\n",
    "        if (low > high) { // swap\n",
    "            int temp = low;\n",
    "            low = high;\n",
    "            high = temp;\n",
    "        }\n",
    "        if (value < low) return low;\n",
    "        if (value > high) return high;\n",
    "        return value;\n",
    "    }\n",
    "\n",
    "    // Clamp double value to [low, high], swap if low > high\n",
    "    public static double clamp(double value, double low, double high) {\n",
    "        if (low > high) { // swap\n",
    "            double temp = low;\n",
    "            low = high;\n",
    "            high = temp;\n",
    "        }\n",
    "        if (value < low) return low;\n",
    "        if (value > high) return high;\n",
    "        return value;\n",
    "    }\n",
    "\n",
    "    public static void main(String[] args) {\n",
    "        System.out.println(clamp(5, 1, 10));    // expected: 5\n",
    "        System.out.println(clamp(-2, 0, 10));   // expected: 0\n",
    "        System.out.println(clamp(15, 0, 10));   // expected: 10\n",
    "        System.out.println(clamp(5.5, 1.0, 5.0)); // swap → expected: 5.0\n",
    "        System.out.println(clamp(3.2, 5.0, 1.0)); // swap → expected: 3.2\n",
    "    }\n",
    "}\n",
    "\n",
    "Frq2_Clamp.main(null);\n"
   ]
  }
 ],
 "metadata": {
  "kernelspec": {
   "display_name": "jbang-ijava",
   "language": "java",
   "name": "jbang-ijava"
  },
  "language_info": {
   "codemirror_mode": "java",
   "file_extension": ".jshell",
   "mimetype": "text/x-java-source",
   "name": "Java",
   "pygments_lexer": "java",
   "version": "25+36-LTS"
  }
 },
 "nbformat": 4,
 "nbformat_minor": 5
}
