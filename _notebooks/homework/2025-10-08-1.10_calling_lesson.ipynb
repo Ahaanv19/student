{
 "cells": [
  {
   "cell_type": "raw",
   "id": "07f6d2a2",
   "metadata": {
    "vscode": {
     "languageId": "raw"
    }
   },
   "source": [
    "---\n",
    "title: 1.10 Lesson Homework\n",
    "comments: true\n",
    "layout: post\n",
    "permalink: /calling/1.10-lesson-homework/\n",
    "description: Lesson 1.10 Homework\n",
    "author: Ahaan\n",
    "---"
   ]
  },
  {
   "cell_type": "markdown",
   "id": "f3083f3d",
   "metadata": {},
   "source": [
    "# Popcorn Hack 1"
   ]
  },
  {
   "cell_type": "markdown",
   "id": "faf3af11",
   "metadata": {},
   "source": [
    "\n",
    "\n",
    "- **Good lines**  \n",
    "  - `sayCatchphrase();` — static method, can be called directly in `main()`  \n",
    "  - `alex.sayHi();` — instance method called on an object  \n",
    "  - `alex.sayCatchphrase();` — works (static called from object, though not recommended)  \n",
    "\n",
    "- **Bad lines (cause error)**  \n",
    "  - `sayHi();` — instance method called from static context without an object\n"
   ]
  },
  {
   "cell_type": "code",
   "execution_count": 3,
   "id": "ca32ef84",
   "metadata": {
    "vscode": {
     "languageId": "java"
    }
   },
   "outputs": [
    {
     "name": "stdout",
     "output_type": "stream",
     "text": [
      "Sup bro?\n",
      "Hey, I'm Alex\n",
      "Sup bro?\n",
      "Sup bro?\n"
     ]
    }
   ],
   "source": [
    "class Bro {\n",
    "    String name;\n",
    "    static String catchphrase = \"Sup bro?\";\n",
    "\n",
    "    // Constructor\n",
    "    public Bro(String name) {\n",
    "        this.name = name;\n",
    "    }\n",
    "\n",
    "    // Instance method — requires an object to call it\n",
    "    public void sayHi() {\n",
    "        System.out.println(\"Hey, I'm \" + name);\n",
    "    }\n",
    "\n",
    "    // Static method — belongs to the class\n",
    "    public static void sayCatchphrase() {\n",
    "        System.out.println(catchphrase);\n",
    "    }\n",
    "\n",
    "    public static void main(String[] args) {\n",
    "        // Fixed: Call static method using the class name (best practice)\n",
    "        Bro.sayCatchphrase();\n",
    "\n",
    "        // Orignal Error: sayHi() is an instance method, cannot call from static context\n",
    "        // sayHi();\n",
    "\n",
    "        // Fix: Create an object to call instance method\n",
    "        Bro alex = new Bro(\"Alex\");\n",
    "\n",
    "        // Correct: calling instance method on the object\n",
    "        alex.sayHi();\n",
    "\n",
    "        // Works but not recommended: calling static method through object\n",
    "        alex.sayCatchphrase();\n",
    "\n",
    "        // Fix: better way to call static method\n",
    "        Bro.sayCatchphrase();\n",
    "    }\n",
    "}\n",
    "Bro.main(new String[]{});\n"
   ]
  },
  {
   "cell_type": "markdown",
   "id": "85f4c3aa",
   "metadata": {},
   "source": [
    "# Homework "
   ]
  },
  {
   "cell_type": "code",
   "execution_count": 7,
   "id": "171cccc9",
   "metadata": {
    "vscode": {
     "languageId": "java"
    }
   },
   "outputs": [
    {
     "name": "stdout",
     "output_type": "stream",
     "text": [
      "SteelBot | Health: 40 | Power: 8\n",
      "Rexosaurus | Health: 35 | Power: 10\n",
      "\n",
      "Stronger fighter is: Rexosaurus\n",
      "The battle begins between SteelBot and Rexosaurus!\n",
      "Rexosaurus attacks SteelBot for 10 damage!\n",
      "SteelBot | Health: 30 | Power: 8\n",
      "Rexosaurus | Health: 35 | Power: 10\n",
      "-------------------------\n",
      "Rexosaurus attacks SteelBot for 10 damage!\n",
      "SteelBot | Health: 20 | Power: 8\n",
      "Rexosaurus | Health: 35 | Power: 10\n",
      "-------------------------\n",
      "Rexosaurus attacks SteelBot for 10 damage!\n",
      "SteelBot | Health: 10 | Power: 8\n",
      "Rexosaurus | Health: 35 | Power: 10\n",
      "-------------------------\n",
      "Rexosaurus attacks SteelBot for 10 damage!\n",
      "SteelBot | Health: 0 | Power: 8\n",
      "Rexosaurus | Health: 35 | Power: 10\n",
      "-------------------------\n",
      "Rexosaurus wins the battle!\n",
      "Fight duration: 5.5 seconds\n"
     ]
    }
   ],
   "source": [
    "import java.util.Random;\n",
    "\n",
    "class Warrior {\n",
    "    // Instance variables\n",
    "    String name;\n",
    "    int power;\n",
    "    int health;\n",
    "\n",
    "    // Static variable\n",
    "    static double fightDuration = 0.0; // in seconds\n",
    "\n",
    "    // Constructor\n",
    "    public Warrior(String name, int power, int health) {\n",
    "        this.name = name;\n",
    "        this.power = power;\n",
    "        this.health = health;\n",
    "    }\n",
    "\n",
    "    // Instance method: attack another warrior\n",
    "    public void attack(Warrior opponent) {\n",
    "        System.out.println(this.name + \" attacks \" + opponent.name + \" for \" + this.power + \" damage!\");\n",
    "        opponent.health -= this.power;\n",
    "\n",
    "        // Increase fight duration\n",
    "        fightDuration += 0.5; // half a second per attack\n",
    "    }\n",
    "\n",
    "    // Instance method: print warrior status\n",
    "    public void printStatus() {\n",
    "        System.out.println(name + \" | Health: \" + health + \" | Power: \" + power);\n",
    "    }\n",
    "\n",
    "    // Class method: compare which fighter is stronger\n",
    "    public static Warrior strongerFighter(Warrior w1, Warrior w2) {\n",
    "        return (w1.power > w2.power) ? w1 : w2;\n",
    "    }\n",
    "\n",
    "    // Class method: begin the battle\n",
    "    public static void beginBattle(Warrior w1, Warrior w2) {\n",
    "        System.out.println(\"The battle begins between \" + w1.name + \" and \" + w2.name + \"!\");\n",
    "        Random rand = new Random();\n",
    "\n",
    "        // Battle loop\n",
    "        while (w1.health > 0 && w2.health > 0) {\n",
    "            if (rand.nextBoolean()) {\n",
    "                w1.attack(w2);\n",
    "            } else {\n",
    "                w2.attack(w1);\n",
    "            }\n",
    "            w1.printStatus();\n",
    "            w2.printStatus();\n",
    "            System.out.println(\"-------------------------\");\n",
    "\n",
    "            try {\n",
    "                Thread.sleep(500); // delay for readability\n",
    "            } catch (InterruptedException e) {\n",
    "                e.printStackTrace();\n",
    "            }\n",
    "        }\n",
    "\n",
    "        // Declare winner\n",
    "        if (w1.health > 0) {\n",
    "            System.out.println(w1.name + \" wins the battle!\");\n",
    "        } else if (w2.health > 0) {\n",
    "            System.out.println(w2.name + \" wins the battle!\");\n",
    "        } else {\n",
    "            System.out.println(\"It's a tie!\");\n",
    "        }\n",
    "\n",
    "        System.out.printf(\"Fight duration: %.1f seconds%n\", fightDuration);\n",
    "    }\n",
    "}\n",
    "\n",
    "public class UltimateBattle {\n",
    "    public static void main(String[] args) {\n",
    "        // Create two objects (instance of Warrior)\n",
    "        Warrior robot = new Warrior(\"SteelBot\", 8, 40);\n",
    "        Warrior dinosaur = new Warrior(\"Rexosaurus\", 10, 35);\n",
    "\n",
    "        // Use instance methods\n",
    "        robot.printStatus();\n",
    "        dinosaur.printStatus();\n",
    "\n",
    "        System.out.println(\"\\nStronger fighter is: \" + Warrior.strongerFighter(robot, dinosaur).name);\n",
    "\n",
    "        // Begin battle\n",
    "        Warrior.beginBattle(robot, dinosaur);\n",
    "    }\n",
    "}\n",
    "\n",
    "UltimateBattle.main(new String[]{});\n"
   ]
  }
 ],
 "metadata": {
  "kernelspec": {
   "display_name": "jbang-ijava",
   "language": "java",
   "name": "jbang-ijava"
  },
  "language_info": {
   "codemirror_mode": "java",
   "file_extension": ".jshell",
   "mimetype": "text/x-java-source",
   "name": "Java",
   "pygments_lexer": "java",
   "version": "25+36-LTS"
  }
 },
 "nbformat": 4,
 "nbformat_minor": 5
}
