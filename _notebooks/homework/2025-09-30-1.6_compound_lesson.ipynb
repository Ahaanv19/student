{
 "cells": [
  {
   "cell_type": "raw",
   "metadata": {
    "vscode": {
     "languageId": "raw"
    }
   },
   "source": [
    "---\n",
    "title: 1.6 Lesson Homework\n",
    "comments: true\n",
    "layout: post\n",
    "permalink: /compound/1.6-lesson-homework/\n",
    "description: Lesson 1.6 Homework\n",
    "author: Ahaan\n",
    "---"
   ]
  },
  {
   "cell_type": "markdown",
   "metadata": {},
   "source": [
    "## Popcorn Hack 1\n",
    "\n",
    "\n",
    "\n"
   ]
  },
  {
   "cell_type": "code",
   "execution_count": 1,
   "metadata": {
    "vscode": {
     "languageId": "java"
    }
   },
   "outputs": [
    {
     "name": "stdout",
     "output_type": "stream",
     "text": [
      "=== POPCORN HACK #1 ===\n",
      "Starting stats:\n",
      "Score: 1000, Health: 100, Enemies defeated: 0\n",
      "Player defeats an enemy! Score: 1250\n",
      "Player takes damage. Health: 85\n",
      "Enemies defeated: 1\n",
      "Boss battle! Score doubled: 2500\n",
      "Healing potion used. Health: 68\n",
      "=== POPCORN HACK #1 COMPLETE ===\n"
     ]
    }
   ],
   "source": [
    "public class PopcornHack1 {\n",
    "    public static void main(String[] args) {\n",
    "        System.out.println(\"=== POPCORN HACK #1 ===\");\n",
    "\n",
    "        int playerScore = 1000;\n",
    "        int playerHealth = 100;\n",
    "        int enemiesDefeated = 0;\n",
    "\n",
    "        System.out.println(\"Starting stats:\");\n",
    "        System.out.println(\"Score: \" + playerScore + \", Health: \" + playerHealth + \", Enemies defeated: \" + enemiesDefeated);\n",
    "\n",
    "        // Player defeats an enemy worth 250 points\n",
    "        playerScore += 250;\n",
    "        System.out.println(\"Player defeats an enemy! Score: \" + playerScore);\n",
    "\n",
    "        // Player takes 15 damage\n",
    "        playerHealth -= 15;\n",
    "        System.out.println(\"Player takes damage. Health: \" + playerHealth);\n",
    "\n",
    "        // Enemy count goes up\n",
    "        enemiesDefeated += 1;\n",
    "        System.out.println(\"Enemies defeated: \" + enemiesDefeated);\n",
    "\n",
    "        // Boss battle: double the current score!\n",
    "        playerScore *= 2;\n",
    "        System.out.println(\"Boss battle! Score doubled: \" + playerScore);\n",
    "\n",
    "        // Healing potion restores health to 80% of current\n",
    "        playerHealth *= 4;\n",
    "        playerHealth /= 5;  // equivalent to multiplying by 0.8\n",
    "        System.out.println(\"Healing potion used. Health: \" + playerHealth);\n",
    "\n",
    "        System.out.println(\"=== POPCORN HACK #1 COMPLETE ===\");\n",
    "    }\n",
    "}\n",
    "\n",
    "// Run it\n",
    "PopcornHack1.main(null);\n"
   ]
  },
  {
   "cell_type": "markdown",
   "metadata": {},
   "source": [
    "## Popcorn Hack 2"
   ]
  },
  {
   "cell_type": "code",
   "execution_count": 2,
   "metadata": {
    "vscode": {
     "languageId": "java"
    }
   },
   "outputs": [
    {
     "name": "stdout",
     "output_type": "stream",
     "text": [
      "=== POPCORN HACK #2 ===\n",
      "Starting score: 100\n",
      "After wrong answer (-20): 80\n",
      "After power-up (*2): 160\n",
      "After modulo 7 (%=7): 6\n",
      "After post-increment (++): 7\n",
      "After post-decrement (--): 6\n",
      "=== POPCORN HACK #2 COMPLETE ===\n"
     ]
    }
   ],
   "source": [
    "public class PopcornHack2 {\n",
    "    public static void main(String[] args) {\n",
    "        System.out.println(\"=== POPCORN HACK #2 ===\");\n",
    "\n",
    "        int score = 100;\n",
    "        System.out.println(\"Starting score: \" + score);\n",
    "\n",
    "        // Deduct points for a wrong answer\n",
    "        score -= 20;  // -= operator\n",
    "        System.out.println(\"After wrong answer (-20): \" + score);\n",
    "\n",
    "        // Double the score with a power-up\n",
    "        score *= 2;   // *= operator\n",
    "        System.out.println(\"After power-up (*2): \" + score);\n",
    "\n",
    "        // Find remainder after dividing by 7\n",
    "        score %= 7;   // %= operator\n",
    "        System.out.println(\"After modulo 7 (%=7): \" + score);\n",
    "\n",
    "        // Increment score by 1 (post-increment)\n",
    "        score++;\n",
    "        System.out.println(\"After post-increment (++): \" + score);\n",
    "\n",
    "        // Decrement score by 1 (post-decrement)\n",
    "        score--;\n",
    "        System.out.println(\"After post-decrement (--): \" + score);\n",
    "\n",
    "        System.out.println(\"=== POPCORN HACK #2 COMPLETE ===\");\n",
    "    }\n",
    "}\n",
    "\n",
    "// Run it\n",
    "PopcornHack2.main(null);\n"
   ]
  },
  {
   "cell_type": "markdown",
   "metadata": {},
   "source": [
    "## Homework \n",
    "\n"
   ]
  },
  {
   "cell_type": "markdown",
   "metadata": {},
   "source": [
    "### Option A"
   ]
  },
  {
   "cell_type": "code",
   "execution_count": 1,
   "metadata": {
    "vscode": {
     "languageId": "java"
    }
   },
   "outputs": [
    {
     "name": "stdout",
     "output_type": "stream",
     "text": [
      "=== SOCIAL MEDIA SIMULATOR ===\n",
      "Starting followers: 500\n",
      "Posted a new video! Followers: 750 (+250 from viral post)\n",
      "Controversial opinion posted... Followers: 700 (-50 from upset followers)\n",
      "Trending hashtag boost! Engagement: 240 (doubled)\n",
      "Average engagement per post: 48\n",
      "Final ranking position: 450\n",
      "=== SIMULATION COMPLETE ===\n"
     ]
    }
   ],
   "source": [
    "public class SocialMediaSimulator {\n",
    "    public static void main(String[] args) {\n",
    "        System.out.println(\"=== SOCIAL MEDIA SIMULATOR ===\");\n",
    "\n",
    "        // Starting stats\n",
    "        int followers = 500;\n",
    "        int posts = 5;\n",
    "        int engagement = 120;\n",
    "        int sponsorshipEarnings = 0;\n",
    "\n",
    "        System.out.println(\"Starting followers: \" + followers);\n",
    "\n",
    "        // Viral post adds followers\n",
    "        followers += 250; // += operator\n",
    "        System.out.println(\"Posted a new video! Followers: \" + followers + \" (+250 from viral post)\");\n",
    "\n",
    "        // Controversial post loses followers\n",
    "        followers -= 50; // -= operator\n",
    "        System.out.println(\"Controversial opinion posted... Followers: \" + followers + \" (-50 from upset followers)\");\n",
    "\n",
    "        // Trending hashtag doubles engagement\n",
    "        engagement *= 2; // *= operator\n",
    "        System.out.println(\"Trending hashtag boost! Engagement: \" + engagement + \" (doubled)\");\n",
    "\n",
    "        // Average engagement per post\n",
    "        int avgEngagement = engagement / posts; // integer division\n",
    "        System.out.println(\"Average engagement per post: \" + avgEngagement);\n",
    "\n",
    "        // Final ranking modulo 1000\n",
    "        int ranking = 1450;\n",
    "        ranking %= 1000; // %= operator\n",
    "        System.out.println(\"Final ranking position: \" + ranking);\n",
    "\n",
    "        System.out.println(\"=== SIMULATION COMPLETE ===\");\n",
    "    }\n",
    "}\n",
    "\n",
    "// Running the simulation\n",
    "SocialMediaSimulator.main(null);\n"
   ]
  }
 ],
 "metadata": {
  "kernelspec": {
   "display_name": "jbang-ijava",
   "language": "java",
   "name": "jbang-ijava"
  },
  "language_info": {
   "codemirror_mode": "java",
   "file_extension": ".jshell",
   "mimetype": "text/x-java-source",
   "name": "Java",
   "pygments_lexer": "java",
   "version": "25+36-LTS"
  }
 },
 "nbformat": 4,
 "nbformat_minor": 2
}
