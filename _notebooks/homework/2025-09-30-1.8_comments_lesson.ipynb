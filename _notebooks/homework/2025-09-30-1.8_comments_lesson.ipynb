{
 "cells": [
  {
   "cell_type": "raw",
   "id": "52237f60",
   "metadata": {
    "vscode": {
     "languageId": "raw"
    }
   },
   "source": [
    "---\n",
    "title: 1.8 Lesson Homework\n",
    "comments: true\n",
    "layout: post\n",
    "permalink: /comments/1.8-lesson-homework/\n",
    "description: Lesson 1.8 Homework\n",
    "author: Ahaan\n",
    "---"
   ]
  },
  {
   "cell_type": "markdown",
   "id": "971d46d0",
   "metadata": {},
   "source": [
    "# Popcorn Hack 1"
   ]
  },
  {
   "cell_type": "code",
   "execution_count": null,
   "id": "b635d34a",
   "metadata": {
    "vscode": {
     "languageId": "java"
    }
   },
   "outputs": [
    {
     "name": "stdout",
     "output_type": "stream",
     "text": [
      "6\n"
     ]
    }
   ],
   "source": [
    "/**\n",
    " * Calculates the sum of all positive even integers in the given array.\n",
    " * <p>\n",
    " * The method iterates through each element of the {@code nums} array and adds it to a running total\n",
    " * only if the element is greater than zero and evenly divisible by two. The method then returns\n",
    " * the final sum.\n",
    " * </p>\n",
    " *\n",
    " * <p><b>Preconditions:</b></p>\n",
    " * <ul>\n",
    " *   <li>{@code nums} must not be {@code null}.</li>\n",
    " *   <li>{@code nums} may contain any integer values (positive, negative, or zero).</li>\n",
    " * </ul>\n",
    " *\n",
    " * <p><b>Postconditions:</b></p>\n",
    " * <ul>\n",
    " *   <li>Returns the sum of all positive even numbers in {@code nums}.</li>\n",
    " *   <li>If there are no positive even numbers, returns {@code 0}.</li>\n",
    " * </ul>\n",
    " *\n",
    " * @param nums an array of integers to evaluate\n",
    " * @return the sum of all positive even integers in {@code nums}; {@code 0} if none exist\n",
    " *\n",
    " * <p><b>Example:</b></p>\n",
    " * <pre>\n",
    " * int[] numbers = {1, 2, 3, 4, -6};\n",
    " * int result = doSomething(numbers);  // result = 6\n",
    " * </pre>\n",
    " */\n",
    "public static int doSomething(int[] nums) {\n",
    "    int result = 0;\n",
    "    for (int i = 0; i < nums.length; i++) {\n",
    "        if (nums[i] > 0 && nums[i] % 2 == 0) {\n",
    "            result += nums[i];\n",
    "        }\n",
    "    }\n",
    "    return result;\n",
    "}\n",
    "\n",
    "// Example test to verify output\n",
    "int[] testArray = {1, 2, 3, 4, -6};\n",
    "System.out.println(doSomething(testArray));  // Expected output: 6\n"
   ]
  },
  {
   "cell_type": "markdown",
   "id": "a2ce62d3",
   "metadata": {},
   "source": [
    "# Popcorn Hack 2"
   ]
  },
  {
   "cell_type": "code",
   "execution_count": null,
   "id": "d0715309",
   "metadata": {
    "vscode": {
     "languageId": "java"
    }
   },
   "outputs": [],
   "source": [
    "\n",
    "/**\n",
    " * Manages student grades and calculates final grades based on weighted categories.\n",
    " * <p>\n",
    " * This class allows teachers or students to track assignments across different categories\n",
    " * (such as homework, tests, and projects) and compute a final grade using category weights.\n",
    " * It can also handle extra credit and generate a summary report of all recorded data.\n",
    " * </p>\n",
    " *\n",
    " * <p><b>Key Features:</b></p>\n",
    " * <ul>\n",
    " *   <li>Store assignments organized by category</li>\n",
    " *   <li>Apply custom weights to each grade category</li>\n",
    " *   <li>Track and include extra credit points</li>\n",
    " *   <li>Generate formatted grade reports</li>\n",
    " * </ul>\n",
    " *\n",
    " * <p><b>Usage Example:</b></p>\n",
    " * <pre>\n",
    " * GradeBook myGrades = new GradeBook();\n",
    " * myGrades.setCategoryWeight(\"Homework\", 0.30);\n",
    " * myGrades.setCategoryWeight(\"Tests\", 0.70);\n",
    " * myGrades.addAssignment(\"Homework\", \"HW1\", 95.0);\n",
    " * myGrades.addAssignment(\"Tests\", \"Unit Test 1\", 88.0);\n",
    " * double finalGrade = myGrades.calculateFinalGrade();\n",
    " * System.out.println(\"Final Grade: \" + finalGrade);\n",
    " * </pre>\n",
    " *\n",
    " * @author Ahaan\n",
    " * @version 1.0\n",
    " * @since 2025-10-06\n",
    " */\n",
    "public class GradeBook {\n",
    "    private HashMap<String, Double> assignments;\n",
    "    private HashMap<String, Double> categoryWeights;\n",
    "    private double extraCredit;\n",
    "\n",
    "    /**\n",
    "     * Adds an assignment score to a specific category.\n",
    "     *\n",
    "     * <p><b>Preconditions:</b></p>\n",
    "     * <ul>\n",
    "     *   <li>{@code category} and {@code name} must not be {@code null}.</li>\n",
    "     *   <li>{@code score} should typically be between 0 and 100.</li>\n",
    "     * </ul>\n",
    "     *\n",
    "     * <p><b>Postconditions:</b></p>\n",
    "     * <ul>\n",
    "     *   <li>The assignment is stored under the specified category.</li>\n",
    "     * </ul>\n",
    "     *\n",
    "     * @param category the category name (e.g., \"Homework\", \"Tests\")\n",
    "     * @param name the assignment name\n",
    "     * @param score the score earned (0–100)\n",
    "     */\n",
    "    public void addAssignment(String category, String name, double score) { }\n",
    "\n",
    "    /**\n",
    "     * Sets the weight for a specific grade category.\n",
    "     *\n",
    "     * <p><b>Preconditions:</b></p>\n",
    "     * <ul>\n",
    "     *   <li>{@code category} must not be {@code null}.</li>\n",
    "     *   <li>{@code weight} should be between 0.0 and 1.0.</li>\n",
    "     * </ul>\n",
    "     *\n",
    "     * <p><b>Postconditions:</b></p>\n",
    "     * <ul>\n",
    "     *   <li>The specified weight is stored for that category.</li>\n",
    "     * </ul>\n",
    "     *\n",
    "     * @param category the category name\n",
    "     * @param weight the weight as a decimal (e.g., 0.30 for 30%)\n",
    "     */\n",
    "    public void setCategoryWeight(String category, double weight) { }\n",
    "\n",
    "    /**\n",
    "     * Calculates the final weighted grade including any extra credit.\n",
    "     *\n",
    "     * <p><b>Postconditions:</b></p>\n",
    "     * <ul>\n",
    "     *   <li>Returns a final numeric grade between 0 and 100 (or higher if extra credit applies).</li>\n",
    "     * </ul>\n",
    "     *\n",
    "     * @return the final grade as a percentage\n",
    "     */\n",
    "    public double calculateFinalGrade() { return 0.0; }\n",
    "\n",
    "    /**\n",
    "     * Generates a formatted text report of all assignments, categories, and weights.\n",
    "     *\n",
    "     * @return a formatted {@code String} containing the grade report\n",
    "     */\n",
    "    public String generateReport() { return \"\"; }\n",
    "}\n"
   ]
  },
  {
   "cell_type": "markdown",
   "id": "ced40a7d",
   "metadata": {},
   "source": [
    "# Homework Hacks "
   ]
  },
  {
   "cell_type": "markdown",
   "id": "6de16bbb",
   "metadata": {},
   "source": [
    "### Part 1 Documentation Analysis\n",
    "\n",
    "Improved Code"
   ]
  },
  {
   "cell_type": "code",
   "execution_count": null,
   "id": "5196670e",
   "metadata": {
    "vscode": {
     "languageId": "java"
    }
   },
   "outputs": [],
   "source": [
    "/**\n",
    " * Demonstrates a simple example of adding two integers and displaying the result.\n",
    " * <p>\n",
    " * This program defines a method {@code add(int, int)} that returns the sum of two integers,\n",
    " * and calls it from the {@code main} method to print the result to the console.\n",
    " * </p>\n",
    " *\n",
    " * <p><b>Example Output:</b></p>\n",
    " * <pre>\n",
    " * ans is 15\n",
    " * </pre>\n",
    " *\n",
    " * @author Ahaan\n",
    " * @version 1.0\n",
    " * @since 2025-10-07\n",
    " */\n",
    "public class Stuff {\n",
    "\n",
    "    /**\n",
    "     * The main entry point of the program.\n",
    "     * Initializes two integers, adds them, and prints the result.\n",
    "     *\n",
    "     * @param args command-line arguments (not used)\n",
    "     */\n",
    "    public static void main(String[] args) {\n",
    "        int x = 5;\n",
    "        int y = 10;\n",
    "        int z = add(x, y);\n",
    "        System.out.println(\"ans is \" + z);\n",
    "    }\n",
    "\n",
    "    /**\n",
    "     * Adds two integers and returns their sum.\n",
    "     *\n",
    "     * <p><b>Preconditions:</b></p>\n",
    "     * <ul>\n",
    "     *   <li>Inputs {@code a} and {@code b} are valid integers.</li>\n",
    "     * </ul>\n",
    "     *\n",
    "     * <p><b>Postconditions:</b></p>\n",
    "     * <ul>\n",
    "     *   <li>Returns the arithmetic sum of {@code a} and {@code b}.</li>\n",
    "     * </ul>\n",
    "     *\n",
    "     * @param a the first integer\n",
    "     * @param b the second integer\n",
    "     * @return the sum of {@code a} and {@code b}\n",
    "     */\n",
    "    static int add(int a, int b) {\n",
    "        return a + b;\n",
    "    }\n",
    "}\n"
   ]
  },
  {
   "cell_type": "markdown",
   "id": "813455e4",
   "metadata": {},
   "source": [
    "#### Explanation \n",
    "\n",
    "I Added Javadoc comments for the class and both methods, used proper class name capitalization, added @param and @return tags for method documentation, provided an example output and clear descriptions of purpose, and I also improved the legibility with correct naming connventions. \n",
    "\n"
   ]
  },
  {
   "cell_type": "markdown",
   "id": "e1902467",
   "metadata": {},
   "source": [
    "### Part 2 Document a Complex Method\n",
    "\n"
   ]
  },
  {
   "cell_type": "code",
   "execution_count": null,
   "id": "30056b9e",
   "metadata": {
    "vscode": {
     "languageId": "java"
    }
   },
   "outputs": [],
   "source": [
    "/**\n",
    " * Attempts to enroll a student in a specific course for a given semester.\n",
    " * <p>\n",
    " * This method checks for various conditions such as course availability,\n",
    " * schedule conflicts, prerequisite completion, and credit limits before\n",
    " * enrolling the student. If all checks pass, the student and course records\n",
    " * are updated, and the enrollment transaction is recorded.\n",
    " * </p>\n",
    " *\n",
    " * <p><b>Preconditions:</b></p>\n",
    " * <ul>\n",
    " *   <li>The student and course records exist in the system.</li>\n",
    " *   <li>The semester value is valid (e.g., Fall = 1, Spring = 2).</li>\n",
    " * </ul>\n",
    " *\n",
    " * <p><b>Postconditions:</b></p>\n",
    " * <ul>\n",
    " *   <li>The student is added to the course roster and the course is added to the student’s schedule, if successful.</li>\n",
    " *   <li>A transaction record is created for the enrollment.</li>\n",
    " *   <li>If any condition fails, the enrollment is not processed and {@code false} is returned.</li>\n",
    " * </ul>\n",
    " *\n",
    " * @param studentId the unique identifier of the student attempting to enroll\n",
    " * @param courseCode the unique code identifying the course\n",
    " * @param semester the semester number in which the enrollment occurs\n",
    " * @return {@code true} if enrollment succeeds; {@code false} otherwise\n",
    " */\n",
    "public boolean enrollStudent(String studentId, String courseCode, int semester) {\n",
    "    Student student = findStudentById(studentId);\n",
    "    if (student == null) return false;\n",
    "\n",
    "    Course course = findCourseByCode(courseCode);\n",
    "    if (course == null) return false;\n",
    "\n",
    "    if (course.isFull()) return false;\n",
    "    if (student.hasScheduleConflict(course)) return false;\n",
    "    if (!student.hasPrerequisites(course)) return false;\n",
    "    if (student.getCreditHours() + course.getCreditHours() > 18) return false;\n",
    "\n",
    "    student.addCourse(course);\n",
    "    course.addStudent(student);\n",
    "    recordEnrollmentTransaction(studentId, courseCode, semester);\n",
    "    return true;\n",
    "}\n"
   ]
  },
  {
   "cell_type": "markdown",
   "id": "4a2ee81f",
   "metadata": {},
   "source": [
    "### Part 3 Reflection Questions\n",
    "\n",
    "Even if they didn't write the code, documentation guarantees that everyone on the team is aware of how it operates.  It makes sure long-term maintainability, expedites the onboarding of new members in understanding a project, and helps prevent duplication of effort. Someone might be able to remeber  what they wrote in a project they made on your own, but in a team project, the documentation becomes something that anyone can remeber and understand"
   ]
  },
  {
   "cell_type": "markdown",
   "id": "754c2d39",
   "metadata": {},
   "source": [
    "# Extra Credit"
   ]
  },
  {
   "cell_type": "markdown",
   "id": "eee2c3f7",
   "metadata": {},
   "source": [
    "### Challenge 1 Document a Recursive Method"
   ]
  },
  {
   "cell_type": "code",
   "execution_count": null,
   "id": "dde78a03",
   "metadata": {
    "vscode": {
     "languageId": "java"
    }
   },
   "outputs": [
    {
     "name": "stdout",
     "output_type": "stream",
     "text": [
      "Factorial of 5 is: 120\n"
     ]
    }
   ],
   "source": [
    "/**\n",
    " * Computes the factorial of a non-negative integer recursively.\n",
    " * <p>\n",
    " * The factorial of a number {@code n} is defined as:\n",
    " * {@code n! = n × (n - 1) × ... × 1}, with the base case {@code 0! = 1}.\n",
    " * </p>\n",
    " *\n",
    " * <p><b>Base Case:</b> If {@code n == 0}, return 1.</p>\n",
    " * <p><b>Recursive Case:</b> If {@code n > 0}, return {@code n * factorial(n - 1)}.</p>\n",
    " *\n",
    " * <p><b>Time Complexity:</b> O(n)</p>\n",
    " * <p><b>Space Complexity:</b> O(n) due to recursion stack</p>\n",
    " *\n",
    " * @param n the number to compute factorial for (must be non-negative)\n",
    " * @return the factorial of {@code n}\n",
    " * @throws IllegalArgumentException if {@code n} is negative\n",
    " *\n",
    " * <p>Example:</p>\n",
    " * <pre>\n",
    " * int result = factorial(5);  // returns 120\n",
    " * </pre>\n",
    " */\n",
    "public static int factorial(int n) {\n",
    "    if (n < 0) {\n",
    "        throw new IllegalArgumentException(\"n must be non-negative\");\n",
    "    }\n",
    "    if (n == 0) return 1;  // base case\n",
    "    return n * factorial(n - 1);  // recursive case\n",
    "}\n",
    "\n",
    "// --- Test / Output ---\n",
    "int testValue = 5;\n",
    "System.out.println(\"Factorial of \" + testValue + \" is: \" + factorial(testValue));\n"
   ]
  },
  {
   "cell_type": "markdown",
   "id": "116ab75d",
   "metadata": {},
   "source": [
    "### Challenge 2 Team Documentation Standard\n"
   ]
  },
  {
   "cell_type": "markdown",
   "id": "2e4e209f",
   "metadata": {},
   "source": [
    "Document:\n",
    "\n",
    "- Public classes and methods\n",
    "- Anything that’s tricky, like recursive stuff or complex algorithms\n",
    "- Methods that change data, save files, talk to databases, etc.\n",
    "- Anything other people will actually use\n",
    "\n",
    "Don’t need documenting:\n",
    "\n",
    "- Private helper methods that are super simple\n",
    "- Getters/setters that just return or set a value\n",
    "- Code that’s obvious (no need to write “adds 1 to x”)"
   ]
  },
  {
   "cell_type": "markdown",
   "id": "7411a277",
   "metadata": {},
   "source": [
    "### JavaDoc Tags Guide\n",
    "\n",
    "#### Public Methods\n",
    "- `@param` → what the inputs mean\n",
    "- `@return` → what it gives back\n",
    "- `@throws` → any errors it might throw\n",
    "- `@since` → when it was added\n",
    "- `@version` → version number\n",
    "\n",
    "#### Classes\n",
    "- `@author`\n",
    "- `@version`\n",
    "- `@since`\n",
    "- Maybe a short example usage\n",
    "\n",
    "#### Private / Simple Methods\n",
    "- Optional comment only if it will help\n"
   ]
  },
  {
   "cell_type": "markdown",
   "id": "41f36c15",
   "metadata": {},
   "source": [
    "### Challenge 3 Team Documentation Standard"
   ]
  },
  {
   "cell_type": "markdown",
   "id": "dbe688a8",
   "metadata": {},
   "source": [
    "Before"
   ]
  },
  {
   "cell_type": "code",
   "execution_count": null,
   "id": "179948b1",
   "metadata": {
    "vscode": {
     "languageId": "java"
    }
   },
   "outputs": [],
   "source": [
    "public double calculateTotal(List<Item> items) {\n",
    "    double total = 0;\n",
    "    for (Item item : items) {\n",
    "        total += item.getPrice();\n",
    "    }\n",
    "    return total;\n",
    "}\n"
   ]
  },
  {
   "cell_type": "markdown",
   "id": "5e7f2c78",
   "metadata": {},
   "source": [
    "After"
   ]
  },
  {
   "cell_type": "code",
   "execution_count": null,
   "id": "8c1e5a7e",
   "metadata": {
    "vscode": {
     "languageId": "java"
    }
   },
   "outputs": [],
   "source": [
    "/**\n",
    " * Calculates the total price of a list of items.\n",
    " *\n",
    " * This method will iterate through the provided list of {@link Item} objects,\n",
    " * summing their prices to compute the total amount.\n",
    " *\n",
    " * @param items a list of {@link Item} objects to calculate the total price for\n",
    " * @return the total price as a {@code double}\n",
    " * @throws IllegalArgumentException if the {@code items} list is {@code null}\n",
    " *\n",
    " * @see Item\n",
    " */\n",
    "public double calculateTotal(List<Item> items) {\n",
    "    if (items == null) {\n",
    "        throw new IllegalArgumentException(\"Items list cannot be null\");\n",
    "    }\n",
    "    double total = 0;\n",
    "    for (Item item : items) {\n",
    "        total += item.getPrice();\n",
    "    }\n",
    "    return total;\n",
    "}\n"
   ]
  }
 ],
 "metadata": {
  "kernelspec": {
   "display_name": "jbang-ijava",
   "language": "java",
   "name": "jbang-ijava"
  },
  "language_info": {
   "codemirror_mode": "java",
   "file_extension": ".jshell",
   "mimetype": "text/x-java-source",
   "name": "Java",
   "pygments_lexer": "java",
   "version": "25+36-LTS"
  }
 },
 "nbformat": 4,
 "nbformat_minor": 5
}
