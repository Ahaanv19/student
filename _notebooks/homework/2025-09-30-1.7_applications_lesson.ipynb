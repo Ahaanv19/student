{
 "cells": [
  {
   "cell_type": "raw",
   "id": "07f6d2a2",
   "metadata": {},
   "source": [
    "---\n",
    "title: 1.7 Lesson Homework\n",
    "comments: true\n",
    "layout: post\n",
    "permalink: /application/1.7-lesson-homework/\n",
    "description: Lesson 1.7 Homework\n",
    "author: Ahaan\n",
    "---"
   ]
  }
 ],
 "metadata": {
  "kernelspec": {
   "display_name": "jbang-ijava",
   "language": "java",
   "name": "jbang-ijava"
  },
  "language_info": {
   "codemirror_mode": "java",
   "file_extension": ".jshell",
   "mimetype": "text/x-java-source",
   "name": "Java",
   "pygments_lexer": "java",
   "version": "25+36-LTS"
  }
 },
 "nbformat": 4,
 "nbformat_minor": 5
}
